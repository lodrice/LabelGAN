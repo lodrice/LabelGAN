{
 "cells": [
  {
   "cell_type": "code",
   "execution_count": null,
   "metadata": {
    "collapsed": false
   },
   "outputs": [],
   "source": [
    "%matplotlib inline\n",
    "from skimage import io, filters\n",
    "import tensorflow as tf\n",
    "import tensorflow.contrib.slim as slim\n",
    "from tensorflow.examples.tutorials.mnist import input_data\n",
    "import numpy as np\n",
    "import matplotlib.pyplot as plt\n",
    "import matplotlib.gridspec as gridspec\n",
    "import os\n",
    "from lgan.diffeomorphism import tf_diffeomorphism\n",
    "from tqdm import tqdm"
   ]
  },
  {
   "cell_type": "code",
   "execution_count": null,
   "metadata": {
    "collapsed": true
   },
   "outputs": [],
   "source": []
  },
  {
   "cell_type": "code",
   "execution_count": null,
   "metadata": {
    "collapsed": false
   },
   "outputs": [],
   "source": [
    "batch_size = 32 #batch size\n",
    "input_dim = 128 #dim x and z input_size\n",
    "\n",
    "#mnist data\n",
    "mnist = input_data.read_data_sets('MNIST_data', one_hot=True)\n",
    "X_train = mnist.train.images\n",
    "Y_train = mnist.train.labels\n",
    "X_train = X_train.reshape(55000,28,28,1)\n",
    "\n",
    "#reorganize labels\n",
    "y_train = np.zeros(55000)\n",
    "for i in range(len(Y_train)):\n",
    "    y_train[i]= np.argwhere(Y_train[i]==1)#reshape\n",
    "\n",
    "#create mean Images\n",
    "numberImages = np.zeros((10,28,28,1))\n",
    "for i in range(10):\n",
    "    numbers = np.argwhere(y_train==i)\n",
    "    z = X_train[numbers] #collect all images with number    \n",
    "    numberImages[i] = np.mean(z, axis=0)\n",
    "\n",
    "X_train = X_train.reshape(55000,784)"
   ]
  },
  {
   "cell_type": "code",
   "execution_count": null,
   "metadata": {
    "collapsed": false
   },
   "outputs": [],
   "source": []
  },
  {
   "cell_type": "code",
   "execution_count": null,
   "metadata": {
    "collapsed": true
   },
   "outputs": [],
   "source": [
    "#simple plot function\n",
    "def plot(samples, labels,y,x):\n",
    "    fig = plt.figure(figsize=(10, 10))\n",
    "    gs = gridspec.GridSpec(y, x)\n",
    "    gs.update(wspace=0.05, hspace=0.05)\n",
    "    plt.subplots_adjust(left=None, bottom=None, right=1, top=1.3,\n",
    "                wspace=None, hspace=None)\n",
    "\n",
    "    for i, sample in enumerate(samples):\n",
    "        ax = plt.subplot(gs[i])\n",
    "        plt.axis('off')\n",
    "        ax.set_xticklabels([])\n",
    "        ax.set_yticklabels([])\n",
    "        ax.set_aspect('equal')\n",
    "        plt.title(labels[i])\n",
    "        plt.imshow(sample.reshape(28, 28), cmap='Greys_r')   \n",
    "    return fig"
   ]
  },
  {
   "cell_type": "code",
   "execution_count": null,
   "metadata": {
    "collapsed": false
   },
   "outputs": [],
   "source": [
    "'''\n",
    "#try Diffeomorphism\n",
    "image = numberImages\n",
    "image = np.reshape(image, (10,28,28,1))\n",
    "print(image.shape)\n",
    "session = tf.InteractiveSession()\n",
    "diff_map =  np.random.uniform(-0.5,0.3, size=(10,3, 3, 2)) #batch_size, diff_height, diff_width, 2\n",
    "dif_image = tf_diffeomorphism(image,diff_map)\n",
    "plot(image,np.zeros(10))\n",
    "div_image = dif_image.eval()\n",
    "plot(div_image,np.ones(10))\n",
    "'''"
   ]
  },
  {
   "cell_type": "code",
   "execution_count": null,
   "metadata": {
    "collapsed": true
   },
   "outputs": [],
   "source": [
    "#get Mean Image for Dif Input\n",
    "def getMeanImage(batch_size,label):\n",
    "    images = np.zeros((batch_size,784))\n",
    "    for i in range(batch_size):      \n",
    "        l = np.argwhere(label[i]==1)\n",
    "        index = l[0][0]\n",
    "        images[i]= np.reshape(numberImages[index],784)\n",
    "    return images"
   ]
  },
  {
   "cell_type": "code",
   "execution_count": null,
   "metadata": {
    "collapsed": true
   },
   "outputs": [],
   "source": [
    "#sample for Generator: Random Mean Images 0-9 + Uniform Noise Vector + Label\n",
    "def sample_z(batch_size):\n",
    "    batch = np.zeros((batch_size,input_dim))\n",
    "    labels = np.zeros((batch_size,10)) \n",
    "    for i in range(batch_size):\n",
    "        vector = np.random.uniform(-1., 1., size=[input_dim]) #create noise vector of 100\n",
    "        index = int(np.random.rand(1)*10)\n",
    "        labels[i][index]= 1  #get random label \n",
    "        batch[i] = vector\n",
    "    return (batch, labels)"
   ]
  },
  {
   "cell_type": "code",
   "execution_count": null,
   "metadata": {
    "collapsed": false
   },
   "outputs": [],
   "source": [
    "def convLayer(layerinput, maps, kernel, stride,scope, act=\"relu\"):\n",
    "    layerinput = slim.conv2d(layerinput, maps, kernel,stride, weights_initializer=tf.truncated_normal_initializer(stddev=1e-1),\n",
    "                  scope=scope,padding = 'SAME')\n",
    "    if(act == \"tanh\"):        \n",
    "        return tf.nn.tanh(layerinput)\n",
    "    else:\n",
    "        layerinput = slim.batch_norm(layerinput)\n",
    "        return tf.nn.relu(layerinput) "
   ]
  },
  {
   "cell_type": "code",
   "execution_count": null,
   "metadata": {
    "collapsed": false
   },
   "outputs": [],
   "source": [
    "#Generator Variables\n",
    "scalar = tf.Variable(tf.reduce_mean(tf.random_normal([1], stddev=0.1)))\n",
    "multMatrix = tf.Variable(tf.random_normal([batch_size,8,49], stddev=0.1))\n",
    "\n",
    "#Generator - add Detail\n",
    "def generator_detail(noise, dif_image):\n",
    "    with tf.variable_scope('generator_detail'):\n",
    "        noise = tf.reshape(noise, (batch_size,16,8))\n",
    "        noise = tf.matmul(noise, multMatrix) #49x16 Matrix=784\n",
    "        noise = tf.reshape(noise,(batch_size, 28,28,1))\n",
    "        noise = slim.batch_norm(noise)\n",
    "        noise = tf.scalar_mul(0, noise)\n",
    "\n",
    "        details = tf.reshape(dif_image, [batch_size, 28,28,1])\n",
    "        \n",
    "        detail_image = tf.add(details, noise)\n",
    "        detail_image = convLayer(detail_image, 64, [3,3],2, scope='convDetail_1',act=\"tanh\")\n",
    "        detail_image = convLayer(detail_image, 128, [3,3],2, scope='convDetail_2',act=\"tanh\")\n",
    "        detail_image = slim.convolution2d_transpose(detail_image, 64, [3,3],2, scope='convDetail_4')\n",
    "        #detail_image = slim.batch_norm(detail_image)\n",
    "        detail_image = tf.nn.tanh(detail_image)\n",
    "        detail_image = slim.convolution2d_transpose(detail_image, 32, [3,3],2, scope='convDetail_5')\n",
    "        #detail_image = slim.batch_norm(detail_image)\n",
    "        detail_image = tf.nn.tanh(detail_image)\n",
    "        detail_image = convLayer(detail_image, 1, [3,3],1, scope='convDetail_6',act=\"tanh\") \n",
    "\n",
    "        return detail_image\n",
    "\n",
    "#Generator - predict parameters for Diffeomorphism\n",
    "def generator_dif_paras(noise_vector):\n",
    "    with tf.variable_scope('generator_diffeo'):\n",
    "        params = tf.reshape(noise_vector,[batch_size,16,8,1])\n",
    "        params = convLayer(params, 32, [3, 3],2, scope='convG_1')  \n",
    "        params = convLayer(params, 1, [3, 3],2, scope='convG_2')\n",
    "        params = tf.nn.tanh(params)\n",
    "        params= tf.reshape(params, [batch_size,2,2,2]) \n",
    "        return params\n",
    "    \n",
    "#Main Generator\n",
    "def generator(z,class_z,mean_image):\n",
    "    with tf.variable_scope('generator'):\n",
    "        mean_image = tf.reshape(mean_image,[batch_size, 28,28,1])\n",
    "        class_z = slim.fully_connected(class_z, input_dim,weights_initializer=tf.truncated_normal_initializer(stddev=1e-1))\n",
    "        class_z = tf.nn.relu(class_z)\n",
    "        class_z = tf.nn.relu(z)\n",
    "        noise = tf.add(z,class_z)\n",
    "        \n",
    "        dif_params = generator_dif_paras(noise)\n",
    "        dif_image = tf_diffeomorphism(mean_image,dif_params) \n",
    "        detailed_image = generator_detail(noise, dif_image)\n",
    "        return [detailed_image, dif_image]\n",
    "\n"
   ]
  },
  {
   "cell_type": "code",
   "execution_count": null,
   "metadata": {
    "collapsed": true
   },
   "outputs": [],
   "source": [
    "def discriminator(x):\n",
    "    with tf.variable_scope('discriminator'):\n",
    "        x = tf.reshape(x,[batch_size,28,28,1])\n",
    "        #net = slim.conv2d(x, 128, [3, 3], weights_initializer=tf.contrib.layers.xavier_initializer(), scope='convD_1')\n",
    "        #net = slim.batch_norm(net)\n",
    "        #net = tf.nn.relu(net)\n",
    "        net = slim.conv2d(x, 16, [3, 3],2,weights_initializer=tf.truncated_normal_initializer(stddev=0.1),\n",
    "                          scope='convD_2',padding = 'SAME')\n",
    "        net = tf.nn.relu(net)\n",
    "        net = convLayer(net, 32, [3, 3],1,scope='convD_3')\n",
    "        net = slim.convolution2d_transpose(net, 128, [3,3],2, weights_initializer=tf.truncated_normal_initializer(stddev=0.1),\n",
    "                          scope='convD_4',padding = 'SAME')\n",
    "        net = slim.batch_norm(net)\n",
    "        net = tf.nn.relu(net)\n",
    "        net = convLayer(net, 32, [3,3],1, scope='convD_5')\n",
    "        net = convLayer(net, 4, [3,3],1, scope='convD_6')\n",
    "        return slim.fully_connected(net, num_outputs = 1,weights_initializer=tf.truncated_normal_initializer(stddev=0.1))\n"
   ]
  },
  {
   "cell_type": "code",
   "execution_count": null,
   "metadata": {
    "collapsed": false,
    "scrolled": false
   },
   "outputs": [],
   "source": [
    "#Session\n",
    "config = tf.ConfigProto()\n",
    "config.gpu_options.allow_growth=True\n",
    "sess = tf.Session(config=config)\n",
    "\n",
    "\n",
    "#input\n",
    "Mean_image = tf.placeholder(tf.float32, shape=[batch_size, 784])\n",
    "X = tf.placeholder(tf.float32, shape=[batch_size,784]) \n",
    "Z = tf.placeholder(tf.float32, shape=[batch_size, input_dim]) #random Noise 100\n",
    "Class_z = tf.placeholder(tf.float32, shape=[batch_size, 10]) #class(label) of image\n",
    "print(Class_z)\n",
    "\n",
    "#Models\n",
    "detail_image = generator(Z, Class_z, Mean_image) #Generator generate image\n",
    "D_real = discriminator(X)\n",
    "D_fake = discriminator(detail_image[0])\n",
    "\n",
    "#variables V1\n",
    "theta_D = sess.graph.get_collection(tf.GraphKeys.TRAINABLE_VARIABLES, 'discriminator') \n",
    "theta_G = sess.graph.get_collection(tf.GraphKeys.TRAINABLE_VARIABLES, 'generator')\n",
    "theta_G_detail = sess.graph.get_collection(tf.GraphKeys.TRAINABLE_VARIABLES, 'generator_detail')\n",
    "\n",
    "\n",
    "D_loss = tf.reduce_mean(D_real) - tf.reduce_mean(D_fake)\n",
    "#added simple L1 Loss.\n",
    "G_l1_loss = tf.multiply(0.001, tf.reduce_mean(tf.abs(detail_image[0]-detail_image[1])))\n",
    "\n",
    "G_loss = -tf.reduce_mean(D_fake)+G_l1_loss\n",
    "\n",
    "D_solver = (tf.train.RMSPropOptimizer(learning_rate=1e-4)\n",
    "            .minimize(-D_loss, var_list=theta_D))\n",
    "G_solver = (tf.train.RMSPropOptimizer(learning_rate=1e-4)\n",
    "            .minimize(G_loss, var_list=theta_G))\n",
    "\n",
    "clip_D = [p.assign(tf.clip_by_value(p, -0.01, 0.01)) for p in theta_D]\n",
    "\n",
    "\n",
    "if not os.path.exists('out/'):\n",
    "    os.makedirs('out/')\n",
    "\n",
    "#initalize Variables    \n",
    "sess.run(tf.global_variables_initializer())    "
   ]
  },
  {
   "cell_type": "code",
   "execution_count": null,
   "metadata": {
    "collapsed": false
   },
   "outputs": [],
   "source": [
    "if not os.path.exists('logs/'):\n",
    "    os.makedirs('logs/')\n",
    "#Instantiate Tensorboard\n",
    "#writer = tf.train.SummaryWriter(\"logs/\", graph=tf.get_default_graph())\n",
    "\n"
   ]
  },
  {
   "cell_type": "code",
   "execution_count": null,
   "metadata": {
    "collapsed": false,
    "scrolled": false
   },
   "outputs": [],
   "source": [
    "#pretrain disc:\n",
    "for t in tqdm(range(500)):\n",
    "    #train discriminator\n",
    "    Xdata, _ = mnist.train.next_batch(batch_size)\n",
    "    (z, class_z) = sample_z(batch_size) #get Image Batch+Labels\n",
    "    mean_image = getMeanImage(batch_size, class_z) #get mean_image\n",
    "    #print(\"Pretrain Step \",t,\"X \",Xdata.shape,\"z \",z.shape,\"z_class \",class_z.shape,\"mean \",mean_image.shape)\n",
    "    _, D_loss_curr, _ = sess.run(\n",
    "        [D_solver, D_loss, clip_D],\n",
    "        feed_dict={X: Xdata, Z:z, Class_z:class_z, Mean_image:mean_image}\n",
    "    ) \n",
    "    \n",
    "i = 0\n",
    "for it in range(100000):\n",
    "    for _ in range(5): #train discriminator\n",
    "        Xdata, _ = mnist.train.next_batch(batch_size)\n",
    "        (z, class_z) = sample_z(batch_size) #get Image Batch+Labels\n",
    "        _, D_loss_curr, _ = sess.run(\n",
    "            [D_solver, D_loss, clip_D],\n",
    "            feed_dict={X: Xdata, Z:z, Class_z:class_z, Mean_image:mean_image}\n",
    "        )\n",
    "    (z, class_z) = sample_z(batch_size) #get Image Batch+Labels\n",
    "    mean_image = getMeanImage(batch_size,class_z) #get mean_image\n",
    "    _, G_loss_curr = sess.run(\n",
    "        [G_solver, G_loss],\n",
    "        feed_dict={Z:z, Class_z:class_z,Mean_image:mean_image}\n",
    "    )\n",
    "\n",
    "    if it % 100 == 0:\n",
    "        print('Iter: {}; D loss: {:.4}; G_loss: {:.4}'\n",
    "              .format(it, D_loss_curr, G_loss_curr))\n",
    "        if it % 1000 == 0:\n",
    "            (z, class_z) = sample_z(batch_size) #get Image Batch+Labels\n",
    "            mean_image = getMeanImage(batch_size,class_z) #get mean_image\n",
    "            samples = sess.run(detail_image, feed_dict={Z:z, Class_z:class_z,Mean_image:mean_image})         \n",
    "            samples[0] = np.reshape(samples[0], (batch_size,28,28))\n",
    "            fig = plot(samples[0][:16], np.argwhere(class_z!=0)[:,1],4,4)\n",
    "            plt.savefig('out/{}.png'\n",
    "                        .format(str(i).zfill(3)), bbox_inches='tight')\n",
    "            plt.show()\n",
    "            i += 1\n",
    "        else:\n",
    "            (z, class_z) = sample_z(batch_size) #get Image Batch+Labels\n",
    "            mean_image = getMeanImage(batch_size,class_z) #get mean_image\n",
    "            samples = sess.run(detail_image, feed_dict={Z:z, Class_z:class_z,Mean_image:mean_image})         \n",
    "            samples[0] = np.reshape(samples[0], (batch_size,28,28))\n",
    "            fig = plot(samples[0][:4], np.argwhere(class_z!=0)[:,1],1,4)\n",
    "            plt.show()\n",
    "            \n",
    "plt.close(fig)"
   ]
  },
  {
   "cell_type": "raw",
   "metadata": {
    "collapsed": false,
    "scrolled": false
   },
   "source": []
  }
 ],
 "metadata": {
  "kernelspec": {
   "display_name": "Python 3",
   "language": "python",
   "name": "python3"
  },
  "language_info": {
   "codemirror_mode": {
    "name": "ipython",
    "version": 3
   },
   "file_extension": ".py",
   "mimetype": "text/x-python",
   "name": "python",
   "nbconvert_exporter": "python",
   "pygments_lexer": "ipython3",
   "version": "3.5.2"
  }
 },
 "nbformat": 4,
 "nbformat_minor": 2
}
