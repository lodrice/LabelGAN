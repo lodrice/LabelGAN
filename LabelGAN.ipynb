{
 "cells": [
  {
   "cell_type": "code",
   "execution_count": 1,
   "metadata": {
    "collapsed": false
   },
   "outputs": [],
   "source": [
    "%matplotlib inline\n",
    "from skimage import io, filters\n",
    "import tensorflow as tf\n",
    "import tensorflow.contrib.slim as slim\n",
    "from tensorflow.examples.tutorials.mnist import input_data\n",
    "import numpy as np\n",
    "import matplotlib.pyplot as plt\n",
    "import matplotlib.gridspec as gridspec\n",
    "import os\n",
    "from lgan.diffeomorphism import tf_diffeomorphism"
   ]
  },
  {
   "cell_type": "code",
   "execution_count": null,
   "metadata": {
    "collapsed": true
   },
   "outputs": [],
   "source": []
  },
  {
   "cell_type": "code",
   "execution_count": 2,
   "metadata": {
    "collapsed": false
   },
   "outputs": [
    {
     "name": "stdout",
     "output_type": "stream",
     "text": [
      "Extracting MNIST_data/train-images-idx3-ubyte.gz\n",
      "Extracting MNIST_data/train-labels-idx1-ubyte.gz\n",
      "Extracting MNIST_data/t10k-images-idx3-ubyte.gz\n",
      "Extracting MNIST_data/t10k-labels-idx1-ubyte.gz\n"
     ]
    }
   ],
   "source": [
    "batch_size = 32 #batch size\n",
    "input_dim = 100 #dim x and z input_size\n",
    "\n",
    "#mnist data\n",
    "mnist = input_data.read_data_sets('MNIST_data', one_hot=True)\n",
    "X_train = mnist.train.images\n",
    "Y_train = mnist.train.labels\n",
    "X_train = X_train.reshape(55000,28,28,1)\n",
    "\n",
    "#reorganize labels\n",
    "y_train = np.zeros(55000)\n",
    "for i in range(len(Y_train)):\n",
    "    y_train[i]= np.argwhere(Y_train[i]==1)#reshape\n",
    "\n",
    "#create mean Images\n",
    "numberImages = np.zeros((10,28,28,1))\n",
    "for i in range(10):\n",
    "    numbers = np.argwhere(y_train==i)\n",
    "    z = X_train[numbers] #collect all images with number    \n",
    "    numberImages[i] = np.mean(z, axis=0)\n",
    "\n",
    "X_train = X_train.reshape(55000,784)"
   ]
  },
  {
   "cell_type": "code",
   "execution_count": null,
   "metadata": {
    "collapsed": false
   },
   "outputs": [],
   "source": []
  },
  {
   "cell_type": "code",
   "execution_count": 3,
   "metadata": {
    "collapsed": true
   },
   "outputs": [],
   "source": [
    "#simple plot function\n",
    "def plot(samples, labels):\n",
    "    fig = plt.figure(figsize=(8, 8))\n",
    "    gs = gridspec.GridSpec(4, 8)\n",
    "    gs.update(wspace=0.05, hspace=0.05)\n",
    "    plt.subplots_adjust(left=None, bottom=None, right=1, top=1.3,\n",
    "                wspace=None, hspace=None)\n",
    "\n",
    "    for i, sample in enumerate(samples):\n",
    "        ax = plt.subplot(gs[i])\n",
    "        plt.axis('off')\n",
    "        ax.set_xticklabels([])\n",
    "        ax.set_yticklabels([])\n",
    "        ax.set_aspect('equal')\n",
    "        plt.title(labels[i])\n",
    "        plt.imshow(sample.reshape(28, 28), cmap='Greys_r')   \n",
    "    return fig"
   ]
  },
  {
   "cell_type": "code",
   "execution_count": 4,
   "metadata": {
    "collapsed": false
   },
   "outputs": [
    {
     "data": {
      "text/plain": [
       "'\\n#try Diffeomorphism\\nimage = numberImages\\nimage = np.reshape(image, (10,28,28,1))\\nprint(image.shape)\\nsession = tf.InteractiveSession()\\ndiff_map =  np.random.uniform(-0.6,0.6, size=(10,2, 2, 2)) #batch_size, diff_height, diff_width, 2\\ndif_image = tf_diffeomorphism(image,diff_map)\\nplot(image,np.zeros(10))\\ndiv_image = dif_image.eval()\\nplot(div_image,np.ones(10))\\n'"
      ]
     },
     "execution_count": 4,
     "metadata": {},
     "output_type": "execute_result"
    }
   ],
   "source": [
    "'''\n",
    "#try Diffeomorphism\n",
    "image = numberImages\n",
    "image = np.reshape(image, (10,28,28,1))\n",
    "print(image.shape)\n",
    "session = tf.InteractiveSession()\n",
    "diff_map =  np.random.uniform(-0.6,0.6, size=(10,2, 2, 2)) #batch_size, diff_height, diff_width, 2\n",
    "dif_image = tf_diffeomorphism(image,diff_map)\n",
    "plot(image,np.zeros(10))\n",
    "div_image = dif_image.eval()\n",
    "plot(div_image,np.ones(10))\n",
    "'''"
   ]
  },
  {
   "cell_type": "code",
   "execution_count": 5,
   "metadata": {
    "collapsed": true
   },
   "outputs": [],
   "source": [
    "#get Mean Image for Dif Input\n",
    "def getMeanImage(batch_size,label):\n",
    "    images = np.zeros((batch_size,784))\n",
    "    for i in range(batch_size):      \n",
    "        l = np.argwhere(label[i]==1)\n",
    "        index = l[0][0]\n",
    "        images[i]= np.reshape(numberImages[index],784)\n",
    "    return images"
   ]
  },
  {
   "cell_type": "code",
   "execution_count": 6,
   "metadata": {
    "collapsed": true
   },
   "outputs": [],
   "source": [
    "#sample for Generator: Random Mean Images 0-9 + Uniform Noise Vector + Label\n",
    "def sample_z(batch_size):\n",
    "    batch = np.zeros((batch_size,input_dim))\n",
    "    labels = np.zeros((batch_size,10)) \n",
    "    for i in range(batch_size):\n",
    "        vector = np.random.uniform(-1., 1., size=[input_dim]) #create noise vector of 100\n",
    "        index = int(np.random.rand(1)*10)\n",
    "        labels[i][index]= 1  #get random label \n",
    "        batch[i] = vector\n",
    "    return (batch, labels)"
   ]
  },
  {
   "cell_type": "code",
   "execution_count": null,
   "metadata": {
    "collapsed": true
   },
   "outputs": [],
   "source": []
  },
  {
   "cell_type": "code",
   "execution_count": 7,
   "metadata": {
    "collapsed": true
   },
   "outputs": [],
   "source": [
    "def generator(z,class_z,mean_image):\n",
    "    with tf.variable_scope('generator'):\n",
    "        mean_image = tf.reshape(mean_image,[batch_size, 28,28,1])\n",
    "        class_z = slim.fully_connected(class_z, 128,weights_initializer=tf.truncated_normal_initializer(stddev=1e-1))\n",
    "        class_z = tf.nn.relu(class_z)\n",
    "        z = slim.fully_connected(z, 128,weights_initializer=tf.truncated_normal_initializer(stddev=1e-1))\n",
    "        class_z = tf.nn.relu(z)\n",
    "        add = tf.add(z,class_z)\n",
    "        add = tf.reshape(add,[batch_size,16,8,1])\n",
    "        net = slim.conv2d(add, 32, [3, 3],2, weights_initializer=tf.truncated_normal_initializer(stddev=1e-1),\n",
    "                          scope='convG_1',padding = 'SAME')  \n",
    "        net = slim.batch_norm(net)\n",
    "        net = tf.nn.relu(net)\n",
    "        print(net.shape)\n",
    "        net = slim.conv2d(net, 1, [3, 3],2, weights_initializer=tf.truncated_normal_initializer(stddev=1e-1),\n",
    "                          scope='convG_2',padding = 'SAME')\n",
    "        dif_paras = tf.nn.tanh(net)\n",
    "        dif_paras= tf.reshape(dif_paras, [batch_size,2,2,2])\n",
    "        print(\"Diffeo. Paras: \",dif_paras)\n",
    "        print(\"Mean_Image: \",mean_image)\n",
    "        dif_image = tf_diffeomorphism(mean_image,dif_paras) \n",
    "        return dif_image\n",
    "\n",
    "\n",
    "def discriminator(x):\n",
    "    with tf.variable_scope('discriminator'):\n",
    "        x = tf.reshape(x,[batch_size,28,28,1])\n",
    "        #net = slim.conv2d(x, 128, [3, 3], weights_initializer=tf.contrib.layers.xavier_initializer(), scope='convD_1')\n",
    "        #net = slim.batch_norm(net)\n",
    "        #net = tf.nn.relu(net)\n",
    "        net = slim.conv2d(x, 32, [3, 3],2,weights_initializer=tf.truncated_normal_initializer(stddev=0.1),\n",
    "                          scope='convD_2',padding = 'SAME')\n",
    "        net = tf.nn.relu(net)\n",
    "        net = slim.conv2d(net, 64, [3, 3],1,weights_initializer=tf.truncated_normal_initializer(stddev=0.1),\n",
    "                          scope='convD_3',padding = 'SAME')\n",
    "        net = slim.batch_norm(net)\n",
    "        net = tf.nn.relu(net)\n",
    "        net = slim.convolution2d_transpose(net, 32, [3,3],2, weights_initializer=tf.truncated_normal_initializer(stddev=0.1),\n",
    "                          scope='convD_4',padding = 'SAME')\n",
    "        net = slim.batch_norm(net)\n",
    "        net = tf.nn.relu(net)\n",
    "        net = slim.conv2d(net, 16, [3,3],1, weights_initializer=tf.truncated_normal_initializer(stddev=0.1),\n",
    "                          scope='convD_5',padding = 'SAME')\n",
    "        net = slim.batch_norm(net)\n",
    "        net = tf.nn.relu(net)\n",
    "        return slim.fully_connected(net, num_outputs = 1,weights_initializer=tf.truncated_normal_initializer(stddev=0.1))\n"
   ]
  },
  {
   "cell_type": "code",
   "execution_count": 8,
   "metadata": {
    "collapsed": false,
    "scrolled": false
   },
   "outputs": [
    {
     "name": "stdout",
     "output_type": "stream",
     "text": [
      "Tensor(\"Placeholder_3:0\", shape=(32, 10), dtype=float32)\n",
      "(32, 8, 4, 32)\n",
      "Diffeo. Paras:  Tensor(\"generator/Reshape_2:0\", shape=(32, 2, 2, 2), dtype=float32)\n",
      "Mean_Image:  Tensor(\"generator/Reshape:0\", shape=(32, 28, 28, 1), dtype=float32)\n"
     ]
    }
   ],
   "source": [
    "#Session\n",
    "config = tf.ConfigProto()\n",
    "config.gpu_options.allow_growth=True\n",
    "sess = tf.Session(config=config)\n",
    "\n",
    "\n",
    "#input\n",
    "Mean_image = tf.placeholder(tf.float32, shape=[batch_size, 784])\n",
    "X = tf.placeholder(tf.float32, shape=[batch_size,784]) \n",
    "Z = tf.placeholder(tf.float32, shape=[batch_size, input_dim]) #random Noise 100\n",
    "Class_z = tf.placeholder(tf.float32, shape=[batch_size, 10]) #class(label) of image\n",
    "print(Class_z)\n",
    "\n",
    "#Models\n",
    "dif_image = generator(Z, Class_z, Mean_image) #Generator generate image\n",
    "D_real = discriminator(X)\n",
    "D_fake = discriminator(dif_image)\n",
    "\n",
    "#variables V1\n",
    "theta_D1 = sess.graph.get_collection(tf.GraphKeys.TRAINABLE_VARIABLES, 'discriminator') \n",
    "theta_G1 = sess.graph.get_collection(tf.GraphKeys.TRAINABLE_VARIABLES, 'generator')\n",
    "\n",
    "D_loss = tf.reduce_mean(D_real) - tf.reduce_mean(D_fake)\n",
    "G_loss = -tf.reduce_mean(D_fake)\n",
    "\n",
    "D_solver = (tf.train.RMSPropOptimizer(learning_rate=1e-4)\n",
    "            .minimize(-D_loss, var_list=theta_D1))\n",
    "G_solver = (tf.train.RMSPropOptimizer(learning_rate=1e-4)\n",
    "            .minimize(G_loss, var_list=theta_G1))\n",
    "\n",
    "clip_D = [p.assign(tf.clip_by_value(p, -0.01, 0.01)) for p in theta_D1]\n",
    "\n",
    "\n",
    "if not os.path.exists('out/'):\n",
    "    os.makedirs('out/')\n",
    "\n",
    "#initalize Variables    \n",
    "sess.run(tf.global_variables_initializer())    "
   ]
  },
  {
   "cell_type": "code",
   "execution_count": 9,
   "metadata": {
    "collapsed": false,
    "scrolled": false
   },
   "outputs": [
    {
     "name": "stdout",
     "output_type": "stream",
     "text": [
      "Pretrain Step  0 X  (32, 784) z  (32, 100) z_class  (32, 10) mean  (32, 784)\n",
      "Pretrain Step  1 X  (32, 784) z  (32, 100) z_class  (32, 10) mean  (32, 784)\n",
      "Pretrain Step  2 X  (32, 784) z  (32, 100) z_class  (32, 10) mean  (32, 784)\n",
      "Pretrain Step  3 X  (32, 784) z  (32, 100) z_class  (32, 10) mean  (32, 784)\n",
      "Pretrain Step  4 X  (32, 784) z  (32, 100) z_class  (32, 10) mean  (32, 784)\n",
      "Pretrain Step  5 X  (32, 784) z  (32, 100) z_class  (32, 10) mean  (32, 784)\n",
      "Pretrain Step  6 X  (32, 784) z  (32, 100) z_class  (32, 10) mean  (32, 784)\n",
      "Pretrain Step  7 X  (32, 784) z  (32, 100) z_class  (32, 10) mean  (32, 784)\n",
      "Pretrain Step  8 X  (32, 784) z  (32, 100) z_class  (32, 10) mean  (32, 784)\n",
      "Pretrain Step  9 X  (32, 784) z  (32, 100) z_class  (32, 10) mean  (32, 784)\n",
      "Pretrain Step  10 X  (32, 784) z  (32, 100) z_class  (32, 10) mean  (32, 784)\n",
      "Pretrain Step  11 X  (32, 784) z  (32, 100) z_class  (32, 10) mean  (32, 784)\n",
      "Pretrain Step  12 X  (32, 784) z  (32, 100) z_class  (32, 10) mean  (32, 784)\n",
      "Pretrain Step  13 X  (32, 784) z  (32, 100) z_class  (32, 10) mean  (32, 784)\n",
      "Pretrain Step  14 X  (32, 784) z  (32, 100) z_class  (32, 10) mean  (32, 784)\n",
      "Pretrain Step  15 X  (32, 784) z  (32, 100) z_class  (32, 10) mean  (32, 784)\n",
      "Pretrain Step  16 X  (32, 784) z  (32, 100) z_class  (32, 10) mean  (32, 784)\n",
      "Pretrain Step  17 X  (32, 784) z  (32, 100) z_class  (32, 10) mean  (32, 784)\n",
      "Pretrain Step  18 X  (32, 784) z  (32, 100) z_class  (32, 10) mean  (32, 784)\n",
      "Pretrain Step  19 X  (32, 784) z  (32, 100) z_class  (32, 10) mean  (32, 784)\n",
      "Pretrain Step  20 X  (32, 784) z  (32, 100) z_class  (32, 10) mean  (32, 784)\n",
      "Pretrain Step  21 X  (32, 784) z  (32, 100) z_class  (32, 10) mean  (32, 784)\n",
      "Pretrain Step  22 X  (32, 784) z  (32, 100) z_class  (32, 10) mean  (32, 784)\n",
      "Pretrain Step  23 X  (32, 784) z  (32, 100) z_class  (32, 10) mean  (32, 784)\n",
      "Pretrain Step  24 X  (32, 784) z  (32, 100) z_class  (32, 10) mean  (32, 784)\n",
      "Pretrain Step  25 X  (32, 784) z  (32, 100) z_class  (32, 10) mean  (32, 784)\n",
      "Pretrain Step  26 X  (32, 784) z  (32, 100) z_class  (32, 10) mean  (32, 784)\n",
      "Pretrain Step  27 X  (32, 784) z  (32, 100) z_class  (32, 10) mean  (32, 784)\n",
      "Pretrain Step  28 X  (32, 784) z  (32, 100) z_class  (32, 10) mean  (32, 784)\n",
      "Pretrain Step  29 X  (32, 784) z  (32, 100) z_class  (32, 10) mean  (32, 784)\n",
      "Pretrain Step  30 X  (32, 784) z  (32, 100) z_class  (32, 10) mean  (32, 784)\n",
      "Pretrain Step  31 X  (32, 784) z  (32, 100) z_class  (32, 10) mean  (32, 784)\n",
      "Pretrain Step  32 X  (32, 784) z  (32, 100) z_class  (32, 10) mean  (32, 784)\n",
      "Pretrain Step  33 X  (32, 784) z  (32, 100) z_class  (32, 10) mean  (32, 784)\n",
      "Pretrain Step  34 X  (32, 784) z  (32, 100) z_class  (32, 10) mean  (32, 784)\n",
      "Pretrain Step  35 X  (32, 784) z  (32, 100) z_class  (32, 10) mean  (32, 784)\n",
      "Pretrain Step  36 X  (32, 784) z  (32, 100) z_class  (32, 10) mean  (32, 784)\n",
      "Pretrain Step  37 X  (32, 784) z  (32, 100) z_class  (32, 10) mean  (32, 784)\n",
      "Pretrain Step  38 X  (32, 784) z  (32, 100) z_class  (32, 10) mean  (32, 784)\n",
      "Pretrain Step  39 X  (32, 784) z  (32, 100) z_class  (32, 10) mean  (32, 784)\n",
      "Pretrain Step  40 X  (32, 784) z  (32, 100) z_class  (32, 10) mean  (32, 784)\n",
      "Pretrain Step  41 X  (32, 784) z  (32, 100) z_class  (32, 10) mean  (32, 784)\n",
      "Pretrain Step  42 X  (32, 784) z  (32, 100) z_class  (32, 10) mean  (32, 784)\n",
      "Pretrain Step  43 X  (32, 784) z  (32, 100) z_class  (32, 10) mean  (32, 784)\n",
      "Pretrain Step  44 X  (32, 784) z  (32, 100) z_class  (32, 10) mean  (32, 784)\n",
      "Pretrain Step  45 X  (32, 784) z  (32, 100) z_class  (32, 10) mean  (32, 784)\n",
      "Pretrain Step  46 X  (32, 784) z  (32, 100) z_class  (32, 10) mean  (32, 784)\n",
      "Pretrain Step  47 X  (32, 784) z  (32, 100) z_class  (32, 10) mean  (32, 784)\n",
      "Pretrain Step  48 X  (32, 784) z  (32, 100) z_class  (32, 10) mean  (32, 784)\n",
      "Pretrain Step  49 X  (32, 784) z  (32, 100) z_class  (32, 10) mean  (32, 784)\n",
      "Pretrain Step  50 X  (32, 784) z  (32, 100) z_class  (32, 10) mean  (32, 784)\n",
      "Pretrain Step  51 X  (32, 784) z  (32, 100) z_class  (32, 10) mean  (32, 784)\n",
      "Pretrain Step  52 X  (32, 784) z  (32, 100) z_class  (32, 10) mean  (32, 784)\n",
      "Pretrain Step  53 X  (32, 784) z  (32, 100) z_class  (32, 10) mean  (32, 784)\n",
      "Pretrain Step  54 X  (32, 784) z  (32, 100) z_class  (32, 10) mean  (32, 784)\n",
      "Pretrain Step  55 X  (32, 784) z  (32, 100) z_class  (32, 10) mean  (32, 784)\n",
      "Pretrain Step  56 X  (32, 784) z  (32, 100) z_class  (32, 10) mean  (32, 784)\n",
      "Pretrain Step  57 X  (32, 784) z  (32, 100) z_class  (32, 10) mean  (32, 784)\n",
      "Pretrain Step  58 X  (32, 784) z  (32, 100) z_class  (32, 10) mean  (32, 784)\n",
      "Pretrain Step  59 X  (32, 784) z  (32, 100) z_class  (32, 10) mean  (32, 784)\n",
      "Pretrain Step  60 X  (32, 784) z  (32, 100) z_class  (32, 10) mean  (32, 784)\n",
      "Pretrain Step  61 X  (32, 784) z  (32, 100) z_class  (32, 10) mean  (32, 784)\n",
      "Pretrain Step  62 X  (32, 784) z  (32, 100) z_class  (32, 10) mean  (32, 784)\n",
      "Pretrain Step  63 X  (32, 784) z  (32, 100) z_class  (32, 10) mean  (32, 784)\n",
      "Pretrain Step  64 X  (32, 784) z  (32, 100) z_class  (32, 10) mean  (32, 784)\n",
      "Pretrain Step  65 X  (32, 784) z  (32, 100) z_class  (32, 10) mean  (32, 784)\n",
      "Pretrain Step  66 X  (32, 784) z  (32, 100) z_class  (32, 10) mean  (32, 784)\n",
      "Pretrain Step  67 X  (32, 784) z  (32, 100) z_class  (32, 10) mean  (32, 784)\n",
      "Pretrain Step  68 X  (32, 784) z  (32, 100) z_class  (32, 10) mean  (32, 784)\n",
      "Pretrain Step  69 X  (32, 784) z  (32, 100) z_class  (32, 10) mean  (32, 784)\n",
      "Pretrain Step  70 X  (32, 784) z  (32, 100) z_class  (32, 10) mean  (32, 784)\n",
      "Pretrain Step  71 X  (32, 784) z  (32, 100) z_class  (32, 10) mean  (32, 784)\n",
      "Pretrain Step  72 X  (32, 784) z  (32, 100) z_class  (32, 10) mean  (32, 784)\n",
      "Pretrain Step  73 X  (32, 784) z  (32, 100) z_class  (32, 10) mean  (32, 784)\n",
      "Pretrain Step  74 X  (32, 784) z  (32, 100) z_class  (32, 10) mean  (32, 784)\n",
      "Pretrain Step  75 X  (32, 784) z  (32, 100) z_class  (32, 10) mean  (32, 784)\n",
      "Pretrain Step  76 X  (32, 784) z  (32, 100) z_class  (32, 10) mean  (32, 784)\n",
      "Pretrain Step  77 X  (32, 784) z  (32, 100) z_class  (32, 10) mean  (32, 784)\n",
      "Pretrain Step  78 X  (32, 784) z  (32, 100) z_class  (32, 10) mean  (32, 784)\n",
      "Pretrain Step  79 X  (32, 784) z  (32, 100) z_class  (32, 10) mean  (32, 784)\n",
      "Pretrain Step  80 X  (32, 784) z  (32, 100) z_class  (32, 10) mean  (32, 784)\n",
      "Pretrain Step  81 X  (32, 784) z  (32, 100) z_class  (32, 10) mean  (32, 784)\n",
      "Pretrain Step  82 X  (32, 784) z  (32, 100) z_class  (32, 10) mean  (32, 784)\n",
      "Pretrain Step  83 X  (32, 784) z  (32, 100) z_class  (32, 10) mean  (32, 784)\n",
      "Pretrain Step  84 X  (32, 784) z  (32, 100) z_class  (32, 10) mean  (32, 784)\n",
      "Pretrain Step  85 X  (32, 784) z  (32, 100) z_class  (32, 10) mean  (32, 784)\n",
      "Pretrain Step  86 X  (32, 784) z  (32, 100) z_class  (32, 10) mean  (32, 784)\n",
      "Pretrain Step  87 X  (32, 784) z  (32, 100) z_class  (32, 10) mean  (32, 784)\n",
      "Pretrain Step  88 X  (32, 784) z  (32, 100) z_class  (32, 10) mean  (32, 784)\n",
      "Pretrain Step  89 X  (32, 784) z  (32, 100) z_class  (32, 10) mean  (32, 784)\n",
      "Pretrain Step  90 X  (32, 784) z  (32, 100) z_class  (32, 10) mean  (32, 784)\n",
      "Pretrain Step  91 X  (32, 784) z  (32, 100) z_class  (32, 10) mean  (32, 784)\n",
      "Pretrain Step  92 X  (32, 784) z  (32, 100) z_class  (32, 10) mean  (32, 784)\n",
      "Pretrain Step  93 X  (32, 784) z  (32, 100) z_class  (32, 10) mean  (32, 784)\n",
      "Pretrain Step  94 X  (32, 784) z  (32, 100) z_class  (32, 10) mean  (32, 784)\n",
      "Pretrain Step  95 X  (32, 784) z  (32, 100) z_class  (32, 10) mean  (32, 784)\n",
      "Pretrain Step  96 X  (32, 784) z  (32, 100) z_class  (32, 10) mean  (32, 784)\n",
      "Pretrain Step  97 X  (32, 784) z  (32, 100) z_class  (32, 10) mean  (32, 784)\n",
      "Pretrain Step  98 X  (32, 784) z  (32, 100) z_class  (32, 10) mean  (32, 784)\n",
      "Pretrain Step  99 X  (32, 784) z  (32, 100) z_class  (32, 10) mean  (32, 784)\n",
      "Iter: 0; D loss: 0.001548; G_loss: -0.001219\n",
      "(28, 28)\n"
     ]
    },
    {
     "data": {
      "image/png": "[encoded data removed]",
      "text/plain": [
       "<matplotlib.figure.Figure at 0x7fcdad5efd68>"
      ]
     },
     "metadata": {},
     "output_type": "display_data"
    },
    {
     "name": "stdout",
     "output_type": "stream",
     "text": [
      "Iter: 100; D loss: 0.05538; G_loss: -0.003002\n",
      "Iter: 200; D loss: 0.05727; G_loss: -0.002592\n",
      "Iter: 300; D loss: 0.05722; G_loss: -0.003485\n",
      "Iter: 400; D loss: 0.05806; G_loss: -0.003708\n",
      "Iter: 500; D loss: 0.05873; G_loss: -0.002804\n",
      "Iter: 600; D loss: 0.05865; G_loss: -0.003076\n",
      "Iter: 700; D loss: 0.05912; G_loss: -0.002559\n",
      "Iter: 800; D loss: 0.05914; G_loss: -0.002885\n",
      "Iter: 900; D loss: 0.05808; G_loss: -0.003355\n",
      "Iter: 1000; D loss: 0.05932; G_loss: -0.002724\n",
      "(28, 28)\n"
     ]
    },
    {
     "data": {
      "image/png": "[encoded data removed]",
      "text/plain": [
       "<matplotlib.figure.Figure at 0x7fcd9ebf29e8>"
      ]
     },
     "metadata": {},
     "output_type": "display_data"
    },
    {
     "name": "stdout",
     "output_type": "stream",
     "text": [
      "Iter: 1100; D loss: 0.05948; G_loss: -0.002931\n",
      "Iter: 1200; D loss: 0.05957; G_loss: -0.002723\n",
      "Iter: 1300; D loss: 0.05916; G_loss: -0.00265\n"
     ]
    },
    {
     "ename": "KeyboardInterrupt",
     "evalue": "",
     "output_type": "error",
     "traceback": [
      "\u001b[0;31m---------------------------------------------------------------------------\u001b[0m",
      "\u001b[0;31mKeyboardInterrupt\u001b[0m                         Traceback (most recent call last)",
      "\u001b[0;32m<ipython-input-9-8414d48f0bfd>\u001b[0m in \u001b[0;36m<module>\u001b[0;34m()\u001b[0m\n\u001b[1;32m     18\u001b[0m         _, D_loss_curr, _ = sess.run(\n\u001b[1;32m     19\u001b[0m             \u001b[0;34m[\u001b[0m\u001b[0mD_solver\u001b[0m\u001b[0;34m,\u001b[0m \u001b[0mD_loss\u001b[0m\u001b[0;34m,\u001b[0m \u001b[0mclip_D\u001b[0m\u001b[0;34m]\u001b[0m\u001b[0;34m,\u001b[0m\u001b[0;34m\u001b[0m\u001b[0m\n\u001b[0;32m---> 20\u001b[0;31m             \u001b[0mfeed_dict\u001b[0m\u001b[0;34m=\u001b[0m\u001b[0;34m{\u001b[0m\u001b[0mX\u001b[0m\u001b[0;34m:\u001b[0m \u001b[0mXdata\u001b[0m\u001b[0;34m,\u001b[0m \u001b[0mZ\u001b[0m\u001b[0;34m:\u001b[0m\u001b[0mz\u001b[0m\u001b[0;34m,\u001b[0m \u001b[0mClass_z\u001b[0m\u001b[0;34m:\u001b[0m\u001b[0mclass_z\u001b[0m\u001b[0;34m,\u001b[0m \u001b[0mMean_image\u001b[0m\u001b[0;34m:\u001b[0m\u001b[0mmean_image\u001b[0m\u001b[0;34m}\u001b[0m\u001b[0;34m\u001b[0m\u001b[0m\n\u001b[0m\u001b[1;32m     21\u001b[0m         )\n\u001b[1;32m     22\u001b[0m     \u001b[0;34m(\u001b[0m\u001b[0mz\u001b[0m\u001b[0;34m,\u001b[0m \u001b[0mclass_z\u001b[0m\u001b[0;34m)\u001b[0m \u001b[0;34m=\u001b[0m \u001b[0msample_z\u001b[0m\u001b[0;34m(\u001b[0m\u001b[0mbatch_size\u001b[0m\u001b[0;34m)\u001b[0m \u001b[0;31m#get Image Batch+Labels\u001b[0m\u001b[0;34m\u001b[0m\u001b[0m\n",
      "\u001b[0;32m/home/dorian/.local/lib/python3.5/site-packages/tensorflow/python/client/session.py\u001b[0m in \u001b[0;36mrun\u001b[0;34m(self, fetches, feed_dict, options, run_metadata)\u001b[0m\n\u001b[1;32m    765\u001b[0m     \u001b[0;32mtry\u001b[0m\u001b[0;34m:\u001b[0m\u001b[0;34m\u001b[0m\u001b[0m\n\u001b[1;32m    766\u001b[0m       result = self._run(None, fetches, feed_dict, options_ptr,\n\u001b[0;32m--> 767\u001b[0;31m                          run_metadata_ptr)\n\u001b[0m\u001b[1;32m    768\u001b[0m       \u001b[0;32mif\u001b[0m \u001b[0mrun_metadata\u001b[0m\u001b[0;34m:\u001b[0m\u001b[0;34m\u001b[0m\u001b[0m\n\u001b[1;32m    769\u001b[0m         \u001b[0mproto_data\u001b[0m \u001b[0;34m=\u001b[0m \u001b[0mtf_session\u001b[0m\u001b[0;34m.\u001b[0m\u001b[0mTF_GetBuffer\u001b[0m\u001b[0;34m(\u001b[0m\u001b[0mrun_metadata_ptr\u001b[0m\u001b[0;34m)\u001b[0m\u001b[0;34m\u001b[0m\u001b[0m\n",
      "\u001b[0;32m/home/dorian/.local/lib/python3.5/site-packages/tensorflow/python/client/session.py\u001b[0m in \u001b[0;36m_run\u001b[0;34m(self, handle, fetches, feed_dict, options, run_metadata)\u001b[0m\n\u001b[1;32m    963\u001b[0m     \u001b[0;32mif\u001b[0m \u001b[0mfinal_fetches\u001b[0m \u001b[0;32mor\u001b[0m \u001b[0mfinal_targets\u001b[0m\u001b[0;34m:\u001b[0m\u001b[0;34m\u001b[0m\u001b[0m\n\u001b[1;32m    964\u001b[0m       results = self._do_run(handle, final_targets, final_fetches,\n\u001b[0;32m--> 965\u001b[0;31m                              feed_dict_string, options, run_metadata)\n\u001b[0m\u001b[1;32m    966\u001b[0m     \u001b[0;32melse\u001b[0m\u001b[0;34m:\u001b[0m\u001b[0;34m\u001b[0m\u001b[0m\n\u001b[1;32m    967\u001b[0m       \u001b[0mresults\u001b[0m \u001b[0;34m=\u001b[0m \u001b[0;34m[\u001b[0m\u001b[0;34m]\u001b[0m\u001b[0;34m\u001b[0m\u001b[0m\n",
      "\u001b[0;32m/home/dorian/.local/lib/python3.5/site-packages/tensorflow/python/client/session.py\u001b[0m in \u001b[0;36m_do_run\u001b[0;34m(self, handle, target_list, fetch_list, feed_dict, options, run_metadata)\u001b[0m\n\u001b[1;32m   1013\u001b[0m     \u001b[0;32mif\u001b[0m \u001b[0mhandle\u001b[0m \u001b[0;32mis\u001b[0m \u001b[0;32mNone\u001b[0m\u001b[0;34m:\u001b[0m\u001b[0;34m\u001b[0m\u001b[0m\n\u001b[1;32m   1014\u001b[0m       return self._do_call(_run_fn, self._session, feed_dict, fetch_list,\n\u001b[0;32m-> 1015\u001b[0;31m                            target_list, options, run_metadata)\n\u001b[0m\u001b[1;32m   1016\u001b[0m     \u001b[0;32melse\u001b[0m\u001b[0;34m:\u001b[0m\u001b[0;34m\u001b[0m\u001b[0m\n\u001b[1;32m   1017\u001b[0m       return self._do_call(_prun_fn, self._session, handle, feed_dict,\n",
      "\u001b[0;32m/home/dorian/.local/lib/python3.5/site-packages/tensorflow/python/client/session.py\u001b[0m in \u001b[0;36m_do_call\u001b[0;34m(self, fn, *args)\u001b[0m\n\u001b[1;32m   1020\u001b[0m   \u001b[0;32mdef\u001b[0m \u001b[0m_do_call\u001b[0m\u001b[0;34m(\u001b[0m\u001b[0mself\u001b[0m\u001b[0;34m,\u001b[0m \u001b[0mfn\u001b[0m\u001b[0;34m,\u001b[0m \u001b[0;34m*\u001b[0m\u001b[0margs\u001b[0m\u001b[0;34m)\u001b[0m\u001b[0;34m:\u001b[0m\u001b[0;34m\u001b[0m\u001b[0m\n\u001b[1;32m   1021\u001b[0m     \u001b[0;32mtry\u001b[0m\u001b[0;34m:\u001b[0m\u001b[0;34m\u001b[0m\u001b[0m\n\u001b[0;32m-> 1022\u001b[0;31m       \u001b[0;32mreturn\u001b[0m \u001b[0mfn\u001b[0m\u001b[0;34m(\u001b[0m\u001b[0;34m*\u001b[0m\u001b[0margs\u001b[0m\u001b[0;34m)\u001b[0m\u001b[0;34m\u001b[0m\u001b[0m\n\u001b[0m\u001b[1;32m   1023\u001b[0m     \u001b[0;32mexcept\u001b[0m \u001b[0merrors\u001b[0m\u001b[0;34m.\u001b[0m\u001b[0mOpError\u001b[0m \u001b[0;32mas\u001b[0m \u001b[0me\u001b[0m\u001b[0;34m:\u001b[0m\u001b[0;34m\u001b[0m\u001b[0m\n\u001b[1;32m   1024\u001b[0m       \u001b[0mmessage\u001b[0m \u001b[0;34m=\u001b[0m \u001b[0mcompat\u001b[0m\u001b[0;34m.\u001b[0m\u001b[0mas_text\u001b[0m\u001b[0;34m(\u001b[0m\u001b[0me\u001b[0m\u001b[0;34m.\u001b[0m\u001b[0mmessage\u001b[0m\u001b[0;34m)\u001b[0m\u001b[0;34m\u001b[0m\u001b[0m\n",
      "\u001b[0;32m/home/dorian/.local/lib/python3.5/site-packages/tensorflow/python/client/session.py\u001b[0m in \u001b[0;36m_run_fn\u001b[0;34m(session, feed_dict, fetch_list, target_list, options, run_metadata)\u001b[0m\n\u001b[1;32m   1002\u001b[0m         return tf_session.TF_Run(session, options,\n\u001b[1;32m   1003\u001b[0m                                  \u001b[0mfeed_dict\u001b[0m\u001b[0;34m,\u001b[0m \u001b[0mfetch_list\u001b[0m\u001b[0;34m,\u001b[0m \u001b[0mtarget_list\u001b[0m\u001b[0;34m,\u001b[0m\u001b[0;34m\u001b[0m\u001b[0m\n\u001b[0;32m-> 1004\u001b[0;31m                                  status, run_metadata)\n\u001b[0m\u001b[1;32m   1005\u001b[0m \u001b[0;34m\u001b[0m\u001b[0m\n\u001b[1;32m   1006\u001b[0m     \u001b[0;32mdef\u001b[0m \u001b[0m_prun_fn\u001b[0m\u001b[0;34m(\u001b[0m\u001b[0msession\u001b[0m\u001b[0;34m,\u001b[0m \u001b[0mhandle\u001b[0m\u001b[0;34m,\u001b[0m \u001b[0mfeed_dict\u001b[0m\u001b[0;34m,\u001b[0m \u001b[0mfetch_list\u001b[0m\u001b[0;34m)\u001b[0m\u001b[0;34m:\u001b[0m\u001b[0;34m\u001b[0m\u001b[0m\n",
      "\u001b[0;31mKeyboardInterrupt\u001b[0m: "
     ]
    }
   ],
   "source": [
    "#pretrain disc:\n",
    "for t in range(100):\n",
    "    #train discriminator\n",
    "    Xdata, _ = mnist.train.next_batch(batch_size)\n",
    "    (z, class_z) = sample_z(batch_size) #get Image Batch+Labels\n",
    "    mean_image = getMeanImage(batch_size, class_z) #get mean_image\n",
    "    print(\"Pretrain Step \",t,\"X \",Xdata.shape,\"z \",z.shape,\"z_class \",class_z.shape,\"mean \",mean_image.shape)\n",
    "    _, D_loss_curr, _ = sess.run(\n",
    "        [D_solver, D_loss, clip_D],\n",
    "        feed_dict={X: Xdata, Z:z, Class_z:class_z, Mean_image:mean_image}\n",
    "    ) \n",
    "    \n",
    "i = 0\n",
    "for it in range(100000):\n",
    "    for _ in range(5): #train discriminator\n",
    "        Xdata, _ = mnist.train.next_batch(batch_size)\n",
    "        (z, class_z) = sample_z(batch_size) #get Image Batch+Labels\n",
    "        _, D_loss_curr, _ = sess.run(\n",
    "            [D_solver, D_loss, clip_D],\n",
    "            feed_dict={X: Xdata, Z:z, Class_z:class_z, Mean_image:mean_image}\n",
    "        )\n",
    "    (z, class_z) = sample_z(batch_size) #get Image Batch+Labels\n",
    "    mean_image = getMeanImage(batch_size,class_z) #get mean_image\n",
    "    _, G_loss_curr = sess.run(\n",
    "        [G_solver, G_loss],\n",
    "        feed_dict={Z:z, Class_z:class_z,Mean_image:mean_image}\n",
    "    )\n",
    "\n",
    "    if it % 100 == 0:\n",
    "        print('Iter: {}; D loss: {:.4}; G_loss: {:.4}'\n",
    "              .format(it, D_loss_curr, G_loss_curr))\n",
    "        if it % 1000 == 0:\n",
    "            (z, class_z) = sample_z(batch_size) #get Image Batch+Labels\n",
    "            mean_image = getMeanImage(batch_size,class_z) #get mean_image\n",
    "            samples = sess.run(dif_image, feed_dict={Z:z, Class_z:class_z,Mean_image:mean_image})         \n",
    "            samples = np.reshape(samples, (batch_size,28,28))\n",
    "            print(samples[0].shape)\n",
    "            fig = plot(samples, np.zeros(batch_size))\n",
    "            plt.savefig('out/{}.png'\n",
    "                        .format(str(i).zfill(3)), bbox_inches='tight')\n",
    "            plt.show()\n",
    "            i += 1\n",
    "plt.close(fig)"
   ]
  },
  {
   "cell_type": "code",
   "execution_count": null,
   "metadata": {
    "collapsed": false,
    "scrolled": false
   },
   "outputs": [],
   "source": []
  }
 ],
 "metadata": {
  "kernelspec": {
   "display_name": "Python 3",
   "language": "python",
   "name": "python3"
  },
  "language_info": {
   "codemirror_mode": {
    "name": "ipython",
    "version": 3
   },
   "file_extension": ".py",
   "mimetype": "text/x-python",
   "name": "python",
   "nbconvert_exporter": "python",
   "pygments_lexer": "ipython3",
   "version": "3.5.2"
  }
 },
 "nbformat": 4,
 "nbformat_minor": 2
}
