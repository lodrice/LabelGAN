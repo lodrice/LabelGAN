{
 "cells": [
  {
   "cell_type": "code",
   "execution_count": 1,
   "metadata": {
    "collapsed": false
   },
   "outputs": [
    {
     "name": "stderr",
     "output_type": "stream",
     "text": [
      "/home/dorian/.local/lib/python3.5/site-packages/skimage/viewer/__init__.py:6: UserWarning: Viewer requires Qt\n",
      "  warn('Viewer requires Qt')\n"
     ]
    }
   ],
   "source": [
    "%matplotlib inline\n",
    "from skimage import io, filters\n",
    "import tensorflow as tf\n",
    "import tensorflow.contrib.slim as slim\n",
    "from tensorflow.examples.tutorials.mnist import input_data\n",
    "import numpy as np\n",
    "import matplotlib.pyplot as plt\n",
    "import matplotlib.gridspec as gridspec\n",
    "import os\n",
    "from lgan.diffeomorphism import tf_diffeomorphism"
   ]
  },
  {
   "cell_type": "code",
   "execution_count": null,
   "metadata": {
    "collapsed": true
   },
   "outputs": [],
   "source": []
  },
  {
   "cell_type": "code",
   "execution_count": 12,
   "metadata": {
    "collapsed": false
   },
   "outputs": [
    {
     "name": "stdout",
     "output_type": "stream",
     "text": [
      "Extracting MNIST_data/train-images-idx3-ubyte.gz\n",
      "Extracting MNIST_data/train-labels-idx1-ubyte.gz\n",
      "Extracting MNIST_data/t10k-images-idx3-ubyte.gz\n",
      "Extracting MNIST_data/t10k-labels-idx1-ubyte.gz\n"
     ]
    }
   ],
   "source": [
    "batch_size = 64 #batch size\n",
    "input_dim = 784 #dim x and z input_size\n",
    "\n",
    "#mnist data\n",
    "mnist = input_data.read_data_sets('MNIST_data', one_hot=True)\n",
    "X_train = mnist.train.images\n",
    "Y_train = mnist.train.labels\n",
    "X_train = X_train.reshape(55000,28,28,1)\n",
    "\n",
    "#reorganize labels\n",
    "y_train = np.zeros(55000)\n",
    "for i in range(len(Y_train)):\n",
    "    y_train[i]= np.argwhere(Y_train[i]==1)#reshape\n",
    "\n",
    "#create mean Images\n",
    "numberImages = np.zeros((10,28,28,1))\n",
    "for i in range(10):\n",
    "    numbers = np.argwhere(y_train==i)\n",
    "    z = X_train[numbers] #collect all images with number    \n",
    "    numberImages[i] = np.mean(z, axis=0)\n",
    "\n",
    "X_train = X_train.reshape(55000,784)"
   ]
  },
  {
   "cell_type": "code",
   "execution_count": 42,
   "metadata": {
    "collapsed": false
   },
   "outputs": [
    {
     "name": "stdout",
     "output_type": "stream",
     "text": [
      "(1, 28, 28, 1)\n"
     ]
    },
    {
     "data": {
      "image/png": "[encoded data removed]",
      "text/plain": [
       "<matplotlib.figure.Figure at 0x7f81a810ec50>"
      ]
     },
     "execution_count": 42,
     "metadata": {},
     "output_type": "execute_result"
    },
    {
     "data": {
      "image/png": "[encoded data removed]",
      "text/plain": [
       "<matplotlib.figure.Figure at 0x7f81a8240828>"
      ]
     },
     "metadata": {},
     "output_type": "display_data"
    },
    {
     "data": {
      "image/png": "[encoded data removed]",
      "text/plain": [
       "<matplotlib.figure.Figure at 0x7f81a810ec50>"
      ]
     },
     "metadata": {},
     "output_type": "display_data"
    }
   ],
   "source": [
    "#try Diffeomorphism\n",
    "image = numberImages[6]\n",
    "image = np.reshape(image, (1,28,28,1))\n",
    "print(image.shape)\n",
    "session = tf.InteractiveSession()\n",
    "diff_map =  np.random.uniform(-0.6,0.6, size=(1,2, 2, 2)) #batch_size, diff_height, diff_width, 2\n",
    "dif_image = tf_diffeomorphism(image,diff_map)\n",
    "plot(image,np.zeros(1))\n",
    "div_image = dif_image.eval()\n",
    "plot(div_image,np.ones(1))\n",
    "\n"
   ]
  },
  {
   "cell_type": "code",
   "execution_count": 26,
   "metadata": {
    "collapsed": true
   },
   "outputs": [],
   "source": [
    "#simple plot function\n",
    "def plot(samples, labels):\n",
    "    fig = plt.figure(figsize=(12, 12))\n",
    "    gs = gridspec.GridSpec(4, 4)\n",
    "    gs.update(wspace=0.05, hspace=0.05)\n",
    "    plt.subplots_adjust(left=None, bottom=None, right=1, top=1.3,\n",
    "                wspace=None, hspace=None)\n",
    "\n",
    "    for i, sample in enumerate(samples):\n",
    "        ax = plt.subplot(gs[i])\n",
    "        plt.axis('off')\n",
    "        ax.set_xticklabels([])\n",
    "        ax.set_yticklabels([])\n",
    "        ax.set_aspect('equal')\n",
    "        plt.title(labels[i])\n",
    "        plt.imshow(sample.reshape(28, 28), cmap='Greys_r')   \n",
    "    return fig"
   ]
  },
  {
   "cell_type": "code",
   "execution_count": null,
   "metadata": {
    "collapsed": true
   },
   "outputs": [],
   "source": [
    "#sample for Generator: Random Mean Images 0-9 + Uniform Noise Vector + Label\n",
    "def sample_z(batch_size):\n",
    "    batch = np.zeros((batch_size,input_dim))\n",
    "    labels = np.zeros((batch_size,))\n",
    "    for i in range(batch_size-1):\n",
    "        vector = np.random.uniform(-1., 1., size=[input_dim])/20\n",
    "        index = int(np.random.rand(1)*10)\n",
    "        number = np.reshape(numberImages[index],784)\n",
    "        z_im = number+vector\n",
    "        batch[i]=z_im\n",
    "        labels[i]=index\n",
    "    return (batch,labels)"
   ]
  },
  {
   "cell_type": "code",
   "execution_count": null,
   "metadata": {
    "collapsed": true
   },
   "outputs": [],
   "source": [
    "def generator(z):\n",
    "    with tf.variable_scope('generator'):\n",
    "        z = tf.reshape(z,[-1,28,28,1])\n",
    "        net = slim.conv2d(z, 32, [3, 3],2, weights_initializer=tf.truncated_normal_initializer(stddev=1e-1),\n",
    "                          scope='convG_1',padding = 'SAME')\n",
    "        net = slim.batch_norm(net)\n",
    "        net = tf.nn.relu(net)\n",
    "        net = slim.conv2d(net, 64, [3, 3],1, weights_initializer=tf.truncated_normal_initializer(stddev=1e-1),\n",
    "                          scope='convG_2',padding = 'SAME')\n",
    "        net = slim.batch_norm(net)\n",
    "        net = tf.nn.relu(net)\n",
    "        net = slim.convolution2d_transpose(net, 32, [3,3],2, weights_initializer=tf.truncated_normal_initializer(stddev=1e-1),\n",
    "                          scope='convG_3',padding = 'SAME')\n",
    "        net = slim.batch_norm(net)\n",
    "        net = tf.nn.relu(net)\n",
    "        net = slim.conv2d(net, 1, [1,1],1, weights_initializer=tf.truncated_normal_initializer(stddev=1e-1),\n",
    "                          scope='convG_4',padding = 'SAME')\n",
    "        G_prob = tf.nn.tanh(net)\n",
    "        return G_prob\n",
    "\n",
    "\n",
    "def discriminator(x):\n",
    "    with tf.variable_scope('discriminator'):\n",
    "        x = tf.reshape(x,[-1,28,28,1])\n",
    "        #net = slim.conv2d(x, 128, [3, 3], weights_initializer=tf.contrib.layers.xavier_initializer(), scope='convD_1')\n",
    "        #net = slim.batch_norm(net)\n",
    "        #net = tf.nn.relu(net)\n",
    "        net = slim.conv2d(x, 32, [3, 3],2,weights_initializer=tf.truncated_normal_initializer(stddev=0.1),\n",
    "                          scope='convD_2',padding = 'SAME')\n",
    "        net = tf.nn.relu(net)\n",
    "        net = slim.conv2d(net, 64, [3, 3],1,weights_initializer=tf.truncated_normal_initializer(stddev=0.1),\n",
    "                          scope='convD_3',padding = 'SAME')\n",
    "        net = slim.batch_norm(net)\n",
    "        net = tf.nn.relu(net)\n",
    "        net = slim.convolution2d_transpose(net, 32, [3,3],2, weights_initializer=tf.truncated_normal_initializer(stddev=0.1),\n",
    "                          scope='convD_4',padding = 'SAME')\n",
    "        net = slim.batch_norm(net)\n",
    "        net = tf.nn.relu(net)\n",
    "        net = slim.conv2d(net, 16, [3,3],1, weights_initializer=tf.truncated_normal_initializer(stddev=0.1),\n",
    "                          scope='convD_5',padding = 'SAME')\n",
    "        net = slim.batch_norm(net)\n",
    "        net = tf.nn.relu(net)\n",
    "        return slim.fully_connected(net, num_outputs = 1,weights_initializer=tf.truncated_normal_initializer(stddev=0.1))\n"
   ]
  },
  {
   "cell_type": "code",
   "execution_count": null,
   "metadata": {
    "collapsed": false
   },
   "outputs": [],
   "source": [
    "#Session\n",
    "config = tf.ConfigProto()\n",
    "config.gpu_options.allow_growth=True\n",
    "sess = tf.Session(config=config)\n",
    "\n",
    "\n",
    "#input\n",
    "X = tf.placeholder(tf.float32, shape=[None, input_dim]) \n",
    "z = tf.placeholder(tf.float32, shape=[None, input_dim])\n",
    "\n",
    "#Models\n",
    "G_sample = generator(z)\n",
    "D_real = discriminator(X)\n",
    "D_fake = discriminator(G_sample)\n",
    "\n",
    "#variables V1\n",
    "theta_D1 = sess.graph.get_collection(tf.GraphKeys.TRAINABLE_VARIABLES, 'discriminator') \n",
    "theta_G1 = sess.graph.get_collection(tf.GraphKeys.TRAINABLE_VARIABLES, 'generator')\n",
    "\n",
    "D_loss = tf.reduce_mean(D_real) - tf.reduce_mean(D_fake)\n",
    "G_loss = -tf.reduce_mean(D_fake)\n",
    "\n",
    "D_solver = (tf.train.RMSPropOptimizer(learning_rate=1e-4)\n",
    "            .minimize(-D_loss, var_list=theta_D1))\n",
    "G_solver = (tf.train.RMSPropOptimizer(learning_rate=1e-4)\n",
    "            .minimize(G_loss, var_list=theta_G1))\n",
    "\n",
    "clip_D = [p.assign(tf.clip_by_value(p, -0.01, 0.01)) for p in theta_D1]\n",
    "\n",
    "\n",
    "if not os.path.exists('out/'):\n",
    "    os.makedirs('out/')\n",
    "\n",
    "#initalize Variables    \n",
    "sess.run(tf.global_variables_initializer())    "
   ]
  },
  {
   "cell_type": "code",
   "execution_count": null,
   "metadata": {
    "collapsed": false,
    "scrolled": false
   },
   "outputs": [],
   "source": [
    "#pretrain disc:\n",
    "for t in range(100):\n",
    "    #train discriminator\n",
    "    Xdata, _ = mnist.train.next_batch(batch_size)\n",
    "    (im, labels) = sample_z(batch_size) #get Image Batch+Labels\n",
    "    print(\"Pretrain Step \",t)\n",
    "    _, D_loss_curr, _ = sess.run(\n",
    "        [D_solver, D_loss, clip_D],\n",
    "        feed_dict={X: Xdata, z: im}\n",
    "    ) \n",
    "    \n",
    "i = 0\n",
    "for it in range(100000):\n",
    "    for _ in range(5): #train discriminator\n",
    "        Xdata, _ = mnist.train.next_batch(batch_size)\n",
    "        (im, labels) = sample_z(batch_size) #get Image Batch+Labels\n",
    "        _, D_loss_curr, _ = sess.run(\n",
    "            [D_solver, D_loss, clip_D],\n",
    "            feed_dict={X: Xdata, z: im}\n",
    "        )\n",
    "    (im, labels) = sample_z(batch_size) #get Image Batch+Labels\n",
    "    _, G_loss_curr = sess.run(\n",
    "        [G_solver, G_loss],\n",
    "        feed_dict={z: im}\n",
    "    )\n",
    "\n",
    "    if it % 100 == 0:\n",
    "        print('Iter: {}; D loss: {:.4}; G_loss: {:.4}'\n",
    "              .format(it, D_loss_curr, G_loss_curr))\n",
    "        if it % 1000 == 0:\n",
    "            (im, labels) = sample_z(16) #get Image Batch+Labels\n",
    "            samples = sess.run(G_sample, feed_dict={z: im})\n",
    "            print(samples[0].shape)\n",
    "            fig = plot(samples, labels)\n",
    "            plt.savefig('out/{}.png'\n",
    "                        .format(str(i).zfill(3)), bbox_inches='tight')\n",
    "            plt.show()\n",
    "            i += 1\n",
    "plt.close(fig)"
   ]
  },
  {
   "cell_type": "code",
   "execution_count": null,
   "metadata": {
    "collapsed": false,
    "scrolled": false
   },
   "outputs": [],
   "source": []
  }
 ],
 "metadata": {
  "kernelspec": {
   "display_name": "Python 3",
   "language": "python",
   "name": "python3"
  },
  "language_info": {
   "codemirror_mode": {
    "name": "ipython",
    "version": 3
   },
   "file_extension": ".py",
   "mimetype": "text/x-python",
   "name": "python",
   "nbconvert_exporter": "python",
   "pygments_lexer": "ipython3",
   "version": "3.5.2"
  }
 },
 "nbformat": 4,
 "nbformat_minor": 2
}
